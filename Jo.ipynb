{
 "cells": [
  {
   "cell_type": "markdown",
   "metadata": {
    "deletable": true,
    "editable": true
   },
   "source": [
    "# Problem 5.22 on pg 213 of Ross Probability"
   ]
  },
  {
   "cell_type": "code",
   "execution_count": 6,
   "metadata": {
    "collapsed": false,
    "deletable": true,
    "editable": true
   },
   "outputs": [],
   "source": [
    "import numpy as np\n",
    "import matplotlib.pyplot as plt\n",
    "import seaborn as sns\n",
    "sns.set_style('dark')\n",
    "%matplotlib inline"
   ]
  },
  {
   "cell_type": "code",
   "execution_count": 7,
   "metadata": {
    "collapsed": false,
    "deletable": true,
    "editable": true
   },
   "outputs": [
    {
     "name": "stdout",
     "output_type": "stream",
     "text": [
      "Number of times Jo took 100 times or less to get 50 successes: 49204\n",
      "Percentage: 98.408\n"
     ]
    },
    {
     "data": {
      "image/png": "[encoded data removed]",
      "text/plain": [
       "<matplotlib.figure.Figure at 0x10949af90>"
      ]
     },
     "metadata": {},
     "output_type": "display_data"
    }
   ],
   "source": [
    "P = 0.4\n",
    "numTrials = 100\n",
    "numExperiments = 50000\n",
    "numSuccesses = np.empty(numExperiments)\n",
    "\n",
    "# Run experiment many times\n",
    "for i in np.arange(numExperiments):\n",
    "    trials = np.random.choice([0,1], numTrials, p = [1-P, P])\n",
    "    numSuccesses[i] = np.sum(trials)\n",
    "\n",
    "# Plot normalized histogram\n",
    "plt.hist(numSuccesses, bins = np.arange(-1, 71, 1), normed=True)\n",
    "\n",
    "# Plot Gaussian approximation\n",
    "def gaussian(x, mu, sig):\n",
    "    return np.exp(-np.power(x - mu, 2.) / (2 * np.power(sig, 2.))) / np.power(2*sig*sig*3.14159,0.5)\n",
    "x = np.linspace(0,100,100)\n",
    "y = gaussian(x, 40.0, np.power(24,0.5))\n",
    "plt.axis([20,60,0,0.09])\n",
    "plt.plot(x,y,linewidth=3)\n",
    "\n",
    "print \"Number of times Jo took 100 times or less to get 50 successes: \" + str(np.sum(numSuccesses <= 50)) \n",
    "print \"Percentage: \" + str(100*float(np.sum(numSuccesses <= 50))/numExperiments)"
   ]
  },
  {
   "cell_type": "code",
   "execution_count": null,
   "metadata": {
    "collapsed": true,
    "deletable": true,
    "editable": true
   },
   "outputs": [],
   "source": []
  }
 ],
 "metadata": {
  "kernelspec": {
   "display_name": "Python 2",
   "language": "python",
   "name": "python2"
  },
  "language_info": {
   "codemirror_mode": {
    "name": "ipython",
    "version": 2
   },
   "file_extension": ".py",
   "mimetype": "text/x-python",
   "name": "python",
   "nbconvert_exporter": "python",
   "pygments_lexer": "ipython2",
   "version": "2.7.13"
  }
 },
 "nbformat": 4,
 "nbformat_minor": 2
}
